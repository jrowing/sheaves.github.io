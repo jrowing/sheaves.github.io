{
 "cells": [
  {
   "cell_type": "markdown",
   "metadata": {
    "slideshow": {
     "slide_type": "slide"
    }
   },
   "source": [
    "# Group Homology\n",
    "\n",
    "#### group actions + homological algebra"
   ]
  },
  {
   "cell_type": "markdown",
   "metadata": {
    "slideshow": {
     "slide_type": "skip"
    }
   },
   "source": [
    "$\\DeclareMathOperator{\\ZZ}{\\mathbb{Z}}$\n",
    "\n",
    "$\\DeclareMathOperator{\\SS}{\\mathbb{S}}$\n",
    "\n",
    "$\\DeclareMathOperator{\\RP}{\\mathbb{RP}}$"
   ]
  },
  {
   "cell_type": "markdown",
   "metadata": {
    "slideshow": {
     "slide_type": "slide"
    }
   },
   "source": [
    "# Outline:\n",
    "\n",
    "1. Homological algebra recap\n",
    "1. Homology of a group\n",
    "1. $K(G,1)$-spaces"
   ]
  },
  {
   "cell_type": "markdown",
   "metadata": {
    "slideshow": {
     "slide_type": "slide"
    }
   },
   "source": [
    "# Homological algebra recap\n",
    "\n",
    "Let $R$ be a ring, $M$ an $R$-module, \n",
    "\n",
    "A **projective resolution** of $M$ is an exact sequence of $R$-modules\n",
    "\n",
    "$$ \\cdots \\to C_2 \\xrightarrow{\\partial_2} C_1 \\xrightarrow{\\partial_1} C_0 \\xrightarrow{\\varepsilon} M \\to 0$$\n",
    "\n",
    "such that each $C_i$ is a projective $R$-module."
   ]
  },
  {
   "cell_type": "markdown",
   "metadata": {
    "slideshow": {
     "slide_type": "notes"
    }
   },
   "source": [
    "- Free modules are projective, and we can always get a free, hence projective, resolution\n",
    "- $\\varepsilon$ is an **augmentation** of $F_\\bullet$"
   ]
  },
  {
   "cell_type": "markdown",
   "metadata": {
    "slideshow": {
     "slide_type": "subslide"
    }
   },
   "source": [
    "Let $N$ be another $R$-module. \n",
    "\n",
    "Tensoring $N$ with $C_\\bullet$, we get another chain complex\n",
    "\n",
    "$$ \\cdots \\to N \\otimes C_2  \\to N \\otimes C_1\\to N \\otimes C_0 \\to 0.$$\n",
    "\n",
    "Taking the homology of this complex yields:\n",
    "\n",
    "$$ \\text{Tor}^R_n(N,M) := H_n(N \\otimes_R C_{\\bullet})$$\n",
    "\n",
    "\n"
   ]
  },
  {
   "cell_type": "markdown",
   "metadata": {
    "slideshow": {
     "slide_type": "notes"
    }
   },
   "source": [
    "- Tor is independent of the resolution of $M$"
   ]
  },
  {
   "cell_type": "markdown",
   "metadata": {
    "slideshow": {
     "slide_type": "slide"
    }
   },
   "source": [
    "# Homology of a group\n",
    "\n",
    "Let $G$ be a (discrete) group. Want to do the above with the **integral group ring**\n",
    "\n",
    "$$R = \\mathbb{Z}G$$\n",
    "\n",
    "and its modules.\n"
   ]
  },
  {
   "cell_type": "markdown",
   "metadata": {
    "slideshow": {
     "slide_type": "subslide"
    }
   },
   "source": [
    "The **group homology** of $G$ is\n",
    "$$ H_{\\bullet}G := \\text{Tor}^{\\mathbb{Z}G}_{\\bullet}(\\ZZ,\\ZZ)$$"
   ]
  },
  {
   "cell_type": "markdown",
   "metadata": {
    "slideshow": {
     "slide_type": "fragment"
    }
   },
   "source": [
    "which is the homology of the chain complex\n",
    "\n",
    "$$ \\cdots \\to \\ZZ \\otimes_{\\mathbb{Z}G} C_2 \\to \\ZZ \\otimes_{\\mathbb{Z}G} C_1 \\to \\ZZ \\otimes_{\\mathbb{Z}G} C_0 \\to 0$$\n",
    "\n",
    "where\n",
    "\n",
    "$$\\cdots \\to C_2 \\to C_1 \\to C_0 \\to \\mathbb{Z} \\to 0$$\n",
    "\n",
    "is a projective resolution of $\\mathbb{Z}$."
   ]
  },
  {
   "cell_type": "markdown",
   "metadata": {
    "slideshow": {
     "slide_type": "fragment"
    }
   },
   "source": [
    "How do we get projective resolutions of $M = \\mathbb{Z}$?\n",
    "\n",
    "Why do we tensor with $N = \\mathbb{Z}$?"
   ]
  },
  {
   "cell_type": "markdown",
   "metadata": {
    "slideshow": {
     "slide_type": "fragment"
    }
   },
   "source": [
    "**Topology has the answers!**"
   ]
  },
  {
   "cell_type": "markdown",
   "metadata": {
    "slideshow": {
     "slide_type": "notes"
    }
   },
   "source": [
    "- $G$ acts trivially on $\\mathbb{Z}$\n",
    "- In fact, we get free resolutions"
   ]
  },
  {
   "cell_type": "markdown",
   "metadata": {
    "slideshow": {
     "slide_type": "slide"
    }
   },
   "source": [
    "### Free actions and free resolutions\n",
    "\n",
    "***Proposition.*** Let $G$ act freely on a space $E$. \n",
    "\n",
    "Then $S_n E$ is a free $G$-set and $C_n E = \\mathbb{Z}S_n E$ is a free $\\mathbb{Z}G$-module."
   ]
  },
  {
   "cell_type": "markdown",
   "metadata": {
    "slideshow": {
     "slide_type": "notes"
    }
   },
   "source": [
    "- $S_n E$ is the set of singular $n$-simplices $\\{\\sigma: \\Delta^n \\to E\\}$. The action of $G$ on $E$ induces an action on $S_n E$ by composition: $g\\cdot \\sigma := g \\circ \\sigma$\n",
    "- The induced action is free because $g \\circ\\sigma = \\sigma \\iff g = e$\n",
    "- $C_n E$ is the $n^{th}$ singular chain of $E$\n",
    "- Although \"free\" appears many times, it means different things. In particular, the last statement requires proving."
   ]
  },
  {
   "cell_type": "markdown",
   "metadata": {
    "slideshow": {
     "slide_type": "fragment"
    }
   },
   "source": [
    "***Lemma.*** If $S$ is a free $G$-set, then $\\mathbb{Z}S$ is a free $\\mathbb{Z}G$-module."
   ]
  },
  {
   "cell_type": "markdown",
   "metadata": {
    "slideshow": {
     "slide_type": "notes"
    }
   },
   "source": [
    "*Proof.* For $s \\in S$, we have\n",
    "$$Gx \\cong G/G_s.$$\n",
    "\n",
    "Since $S$ is the disjoint union of its orbits and\n",
    "$$ \\mathbb{Z}\\left(\\coprod S_i\\right) = \\oplus \\mathbb{Z}S_i$$\n",
    "we get\n",
    "$$ \\mathbb{Z}S \\cong \\oplus\\mathbb{Z}\\left(G/G_s\\right).$$\n",
    "\n",
    "Since $G$ acts *freely*, $G_s = \\{e\\}$ so $G/G_s = G$ and\n",
    "$$\\mathbb{Z}S \\cong \\oplus \\mathbb{Z}G.$$"
   ]
  },
  {
   "cell_type": "markdown",
   "metadata": {
    "slideshow": {
     "slide_type": "fragment"
    }
   },
   "source": [
    "So we get a chain complex of *free* $G$-modules\n",
    "\n",
    "$$ \\cdots \\to C_2 E \\to C_1 E \\to C_0 E \\xrightarrow{\\varepsilon} \\mathbb{Z} \\to 0$$\n",
    "\n",
    "and if $E$ is *contractible*, $\\tilde{H}_\\bullet E = 0$, so this is exact."
   ]
  },
  {
   "cell_type": "markdown",
   "metadata": {
    "slideshow": {
     "slide_type": "notes"
    }
   },
   "source": [
    "- This is the augmented chain complex\n",
    "- Of course, have to check that the boundary maps are $\\mathbb{Z}G$-module homomorphisms:\n",
    "- If $\\sigma: \\Delta^n \\to E$, then $\\partial \\sigma = \\sum (-1)^i \\sigma \\circ \\epsilon_i$ where $\\epsilon_i: \\Delta^{n-1} \\to \\Delta^n$ is the standard inclusion into the $i^{th}$ face. \n",
    "- Since $g$ is post-composition while $\\epsilon_i$ are pre-composition, it's easy to see that $g \\cdot \\partial \\sigma = \\partial (g \\cdot \\sigma)$."
   ]
  },
  {
   "cell_type": "markdown",
   "metadata": {
    "slideshow": {
     "slide_type": "fragment"
    }
   },
   "source": [
    "We get a *free* resolution of $\\mathbb{Z}$!"
   ]
  },
  {
   "cell_type": "markdown",
   "metadata": {
    "slideshow": {
     "slide_type": "slide"
    }
   },
   "source": [
    "### Co-invariants and tensoring with $\\mathbb{Z}$\n",
    "\n",
    "Let $M$ be a $\\mathbb{Z}G$-module. The **co-invariants** of $M$ are\n",
    "\n",
    "$$M_G := M/\\langle gm - m\\rangle$$"
   ]
  },
  {
   "cell_type": "markdown",
   "metadata": {
    "slideshow": {
     "slide_type": "notes"
    }
   },
   "source": [
    "- $M_G$ is the largest *quotient* on which $G$ acts trivially (compare to $M^G$, the largest *submodule* on which $G$ acts trivially)"
   ]
  },
  {
   "cell_type": "markdown",
   "metadata": {
    "slideshow": {
     "slide_type": "fragment"
    }
   },
   "source": [
    "***Proposition.*** Let $X$ be a space with $\\pi_1(X) = G$ and contractible universal cover $E$. Then\n",
    "\n",
    "$$(C_\\bullet E)_G \\cong C_\\bullet X.$$"
   ]
  },
  {
   "cell_type": "markdown",
   "metadata": {
    "slideshow": {
     "slide_type": "notes"
    }
   },
   "source": [
    "- $G$ acts freely on $E$, and is in fact a covering space action."
   ]
  },
  {
   "cell_type": "markdown",
   "metadata": {
    "slideshow": {
     "slide_type": "fragment"
    }
   },
   "source": [
    "This follows from observing that \n",
    "\n",
    "$$(S_n E)/G \\cong S_n X$$\n",
    "\n",
    "and setting $S = S_n E$ in the lemma:\n",
    "\n",
    "***Lemma.*** For $S$ an arbitrary $G$-set, $\\left(\\mathbb{Z}S\\right)_G \\cong \\mathbb{Z}(S/G)$."
   ]
  },
  {
   "cell_type": "markdown",
   "metadata": {
    "slideshow": {
     "slide_type": "notes"
    }
   },
   "source": [
    "*Proof.* $(\\mathbb{Z}S)_G \\cong (\\oplus \\mathbb{Z}(G/G_s))_G \\cong  \\oplus (\\mathbb{Z}(G/G_s))_G \\cong \\oplus \\mathbb{Z}(Gs) \\cong \\mathbb{Z}(S/G)  $"
   ]
  },
  {
   "cell_type": "markdown",
   "metadata": {
    "slideshow": {
     "slide_type": "fragment"
    }
   },
   "source": [
    "***Proposition.*** $M_G \\cong \\mathbb{Z} \\otimes_{\\mathbb{Z}G} M$."
   ]
  },
  {
   "cell_type": "markdown",
   "metadata": {
    "slideshow": {
     "slide_type": "notes"
    }
   },
   "source": [
    "*Proof.* Note that\n",
    "$$\n",
    "1 \\otimes g\\cdot m = 1\\cdot g \\otimes m = 1 \\otimes m\n",
    "$$\n",
    "so the map $M \\to \\mathbb{Z}\\otimes M, m \\mapsto 1 \\otimes m$ factors through $M_G$.\n",
    "\n",
    "We also have a bilinear map $\\mathbb{Z} \\times M \\to M_G, (a,m) \\mapsto am$, yielding a map $\\mathbb{Z} \\otimes M \\to M_G, a\\otimes m \\mapsto am$.\n",
    "\n",
    "These maps are mutual inverses."
   ]
  },
  {
   "cell_type": "markdown",
   "metadata": {
    "slideshow": {
     "slide_type": "slide"
    }
   },
   "source": [
    "**Putting it together...**\n",
    "\n",
    "Let $X$ be a *path-connected* space with $\\pi_1(X) = G$ and *contractible* universal cover $E$.\n",
    "\n",
    "Then $G$ acts freely on $E$, so we get a free resolution of $\\ZZ$:\n",
    "\n",
    "$$ \\cdots \\to C_1 E \\to C_0 E \\xrightarrow{\\varepsilon} \\ZZ \\to 0,$$ \n",
    "\n",
    "Tensoring $C_\\bullet E$ with $\\ZZ$ yields\n",
    "\n",
    "$$\\cdots \\to \\ZZ \\otimes C_1 E \\to \\ZZ \\otimes C_0 E \\to 0,$$\n",
    "\n",
    "which is isomorphic to\n",
    "\n",
    "$$\\cdots \\to C_1 X \\to C_0 X \\to 0.$$\n",
    "\n",
    "Taking homology, $$H_\\bullet X \\cong H_\\bullet G.$$"
   ]
  },
  {
   "cell_type": "markdown",
   "metadata": {
    "slideshow": {
     "slide_type": "notes"
    }
   },
   "source": [
    "- In fact, the map on chains induced by $q:E\\to X$ is isomorphic to $\\ZZ \\otimes -$"
   ]
  },
  {
   "cell_type": "markdown",
   "metadata": {
    "slideshow": {
     "slide_type": "slide"
    }
   },
   "source": [
    "# $K(G,1)$-spaces\n",
    "\n",
    "$X$ is a $K(G,1)$-**space (complex)** if:\n",
    "1. $X$ is a path-connected space (CW-complex)\n",
    "1. $\\pi_1(X) = G$ \n",
    "1. Its universal cover $E$ is contractible"
   ]
  },
  {
   "cell_type": "markdown",
   "metadata": {
    "slideshow": {
     "slide_type": "notes"
    }
   },
   "source": [
    "- $K(G,n)$-spaces are called Eilenberg-MacLane spaces, and require $\\pi_m(X) = 0$ for $m \\neq n$."
   ]
  },
  {
   "cell_type": "markdown",
   "metadata": {
    "slideshow": {
     "slide_type": "fragment"
    }
   },
   "source": [
    "***Theorem.*** The homotopy type of a $K(G,1)$-complex is uniquely determined by $G$.\n",
    "\n",
    "We could have thus defined:\n",
    "\n",
    "$$H_\\bullet G :=\\, H_\\bullet\\, K(G,1)$$"
   ]
  },
  {
   "cell_type": "markdown",
   "metadata": {
    "slideshow": {
     "slide_type": "subslide"
    }
   },
   "source": [
    "***Proposition.*** [Hatcher, 1B.9] \n",
    "\n",
    "Let $X$ be a connected CW-complex, $Y$ a $K(G,1)$-complex. Then every\n",
    "\n",
    "$$\\varphi: \\pi_1(X,x_0) \\to \\pi_1(Y,y_0)$$\n",
    "\n",
    "is induced by\n",
    "\n",
    "$$f: (X,x_0) \\to (Y,y_0),$$\n",
    "\n",
    "and $f$ is unique up to homotopy (relative to $x_0$)."
   ]
  },
  {
   "cell_type": "markdown",
   "metadata": {
    "slideshow": {
     "slide_type": "notes"
    }
   },
   "source": [
    "- To get the theorem, let $X$ and $Y$ both be $K(G,1)$ complexes, then use the isomorphism $\\pi_1 X \\cong \\pi_1 Y$ to get maps $f:X \\to Y, g: Y\\to X$ whose compositions are homotopic to identity.\n",
    "- Proof of proposition: See Hatcher Prop 1B.9:\n",
    "- Map on fundamental group gives map on 1-skeleton\n",
    "- Extend this to 2- and higher cells"
   ]
  },
  {
   "cell_type": "markdown",
   "metadata": {
    "slideshow": {
     "slide_type": "slide"
    }
   },
   "source": [
    "### Examples of $K(G,1)$-spaces"
   ]
  },
  {
   "cell_type": "markdown",
   "metadata": {
    "slideshow": {
     "slide_type": "fragment"
    }
   },
   "source": [
    "- Any $X$ with *contractible* universal covering space $E$:\n",
    "    - $\\SS^1$ is a $K(\\ZZ,1)$\n",
    "    - Compact surfaces with *infinite* $\\pi_1$ (i.e. all except $\\SS^2$ and $\\RP^2$)\n",
    "    - Can \"fill-in\" non-contractible $E$ with cells"
   ]
  },
  {
   "cell_type": "markdown",
   "metadata": {
    "slideshow": {
     "slide_type": "fragment"
    }
   },
   "source": [
    "- $K(A,1)$ for abelian $A$:\n",
    "    - Lens spaces: $\\SS^\\infty/\\ZZ_m$ is a $K(\\ZZ_m,1)$\n",
    "    - $K(G,1) \\times K(H,1)$ is a $K(G\\times H,1)$\n",
    "    - If $K(G,1)$ is finite-dimensional, then $G$ is torsion-free (hence infinite!)"
   ]
  },
  {
   "cell_type": "markdown",
   "metadata": {
    "slideshow": {
     "slide_type": "fragment"
    }
   },
   "source": [
    "- Amalgamated free products:\n",
    "    - Any graph is a $K(\\ZZ * \\cdots * \\ZZ,1)$\n",
    "    - $X \\cup_f Y$, with $f: A \\to X$ injective, is a $K(G *_K H,1)$\n",
    "    - Graphs of groups"
   ]
  },
  {
   "cell_type": "markdown",
   "metadata": {
    "slideshow": {
     "slide_type": "slide"
    }
   },
   "source": [
    "### $K(G,1)$-spaces exist!\n",
    "\n",
    "In fact, $K(G,1)$-*complexes* exist!"
   ]
  },
  {
   "cell_type": "markdown",
   "metadata": {
    "slideshow": {
     "slide_type": "fragment"
    }
   },
   "source": [
    "#### Two constructions\n",
    "\n",
    "- From group presentation:\n",
    "    - Construct a surface $X_G$ (generators are 1-cells, relations are 2-cells)\n",
    "    - Make $E$ contractible by attaching $n$-cells (infinitely many!)\n",
    "    - Not functorial\n",
    "    - Different presentations can give different (non-homotopic) $X_G$"
   ]
  },
  {
   "cell_type": "markdown",
   "metadata": {
    "slideshow": {
     "slide_type": "fragment"
    }
   },
   "source": [
    "- Classifying space construction:\n",
    "    - $EG = $ complex whose $n$-cells are *all* $n$-tuples $(g_0,g_1,\\dots,g_n), g_i \\in G$\n",
    "    - $g\\cdot (g_0,\\dots,g_n) = (gg_0,\\dots,gg_n)$\n",
    "    - $BG = EG/G$ is the **classifying space** of $G$\n",
    "    - Functorial (group homomorphisms give cellular maps)"
   ]
  },
  {
   "cell_type": "markdown",
   "metadata": {
    "slideshow": {
     "slide_type": "slide"
    }
   },
   "source": [
    "## References\n",
    "\n",
    "- [Kenneth Brown] Cohomology of Groups *(first two chapters)*\n",
    "- [Allen Hatcher] Algebraic Topology *(various places. Just search for \"`K(G,1)`\")*"
   ]
  }
 ],
 "metadata": {
  "celltoolbar": "Slideshow",
  "kernelspec": {
   "display_name": "Python 2",
   "language": "python",
   "name": "python2"
  },
  "language_info": {
   "codemirror_mode": {
    "name": "ipython",
    "version": 2
   },
   "file_extension": ".py",
   "mimetype": "text/x-python",
   "name": "python",
   "nbconvert_exporter": "python",
   "pygments_lexer": "ipython2",
   "version": "2.7.10"
  }
 },
 "nbformat": 4,
 "nbformat_minor": 0
}
